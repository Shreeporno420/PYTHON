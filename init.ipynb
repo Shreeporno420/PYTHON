{
 "cells": [
  {
   "cell_type": "markdown",
   "source": [
    "## INPUT and OUTPUT"
   ],
   "metadata": {}
  },
  {
   "cell_type": "code",
   "execution_count": null,
   "source": [
    "print(\"Hello Python!\")\r\n",
    "n2 = input(\"Enter Your Name: \")\r\n",
    "print(\"Welcome \", n2)"
   ],
   "outputs": [],
   "metadata": {}
  },
  {
   "cell_type": "markdown",
   "source": [
    "## Variable and Data Types"
   ],
   "metadata": {}
  },
  {
   "cell_type": "code",
   "execution_count": null,
   "source": [
    "#String\r\n",
    "name = \"Happy123\"\r\n",
    "version = 'Python 3'\r\n",
    "fname = \"Father's\"\r\n",
    "fname = 'Father\"s'\r\n",
    "print(type(name))\r\n",
    "print(version)\r\n",
    "fname"
   ],
   "outputs": [],
   "metadata": {}
  },
  {
   "cell_type": "code",
   "execution_count": null,
   "source": [
    "# Integer \r\n",
    "age = 24\r\n",
    "print(type(age))\r\n",
    "age"
   ],
   "outputs": [],
   "metadata": {}
  },
  {
   "cell_type": "code",
   "execution_count": null,
   "source": [
    "# Float\r\n",
    "taka = 200.75\r\n",
    "print(type(taka))\r\n",
    "taka"
   ],
   "outputs": [],
   "metadata": {}
  },
  {
   "cell_type": "code",
   "execution_count": null,
   "source": [
    "# Boolean\r\n",
    "is_married = False\r\n",
    "print(type(is_married))\r\n",
    "is_married"
   ],
   "outputs": [],
   "metadata": {}
  },
  {
   "cell_type": "markdown",
   "source": [
    "## String Formating"
   ],
   "metadata": {}
  },
  {
   "cell_type": "code",
   "execution_count": 1,
   "source": [
    "print(\"Hello Python!\")\r\n",
    "name = input(\"Enter Your Name: \")\r\n",
    "age = int(input(\"Enter Your Age: \"))\r\n",
    "salary = float(input(\"Enter Your Salary: \"))\r\n",
    "print(\"Welcome \", name,\" How are You?\")\r\n",
    "print(\"Welcome \"+ name +\" How are You?\")\r\n",
    "print(\"Welcome {0} {1} {2} {3}  How are You?\".format(name,age, salary,\"Dhaka\"))\r\n",
    "print(\"Welcome %s %d %.2f %s  How are You?\" %(name,age, salary,\"Dhaka\"), end='@')\r\n",
    "print(f\"Welcome {name} {age} {salary} \\n How are You?\")"
   ],
   "outputs": [
    {
     "output_type": "stream",
     "name": "stdout",
     "text": [
      "Hello Python!\n",
      "Welcome  SHRE  How are You?\n",
      "Welcome SHRE How are You?\n",
      "Welcome SHRE 4 444444.0 Dhaka  How are You?\n",
      "Welcome SHRE 4 444444.00 Dhaka  How are You?@Welcome SHRE 4 444444.0 \n",
      " How are You?\n"
     ]
    }
   ],
   "metadata": {}
  },
  {
   "cell_type": "markdown",
   "source": [
    "## Operators"
   ],
   "metadata": {}
  },
  {
   "cell_type": "code",
   "execution_count": null,
   "source": [
    "# Arthmatic\r\n",
    "5+3\r\n",
    "5-3\r\n",
    "5*3\r\n",
    "14 / 3\r\n",
    "14 // 3\r\n",
    "2 ** 3\r\n",
    "14 % 3"
   ],
   "outputs": [],
   "metadata": {}
  },
  {
   "cell_type": "code",
   "execution_count": null,
   "source": [
    "# Comparison\r\n",
    "1 > 2\r\n",
    "1 < 2\r\n",
    "18 >= 18\r\n",
    "18 <= 18\r\n",
    "1 == 1\r\n",
    "1 == 2"
   ],
   "outputs": [],
   "metadata": {}
  },
  {
   "cell_type": "code",
   "execution_count": null,
   "source": [
    "# Logical\r\n",
    "# True and True => True\r\n",
    "# Fasle and True => Fasle\r\n",
    "# True and False => False\r\n",
    "# False and Fasle => False\r\n",
    "False and False\r\n",
    "\r\n",
    "# True or True => True\r\n",
    "# Fasle or True => True\r\n",
    "# True or False => True\r\n",
    "# False or Fasle => False\r\n",
    "False or True\r\n",
    "\r\n",
    "# not True\r\n",
    "not True \r\n",
    "not False"
   ],
   "outputs": [],
   "metadata": {}
  },
  {
   "cell_type": "code",
   "execution_count": null,
   "source": [
    "# Bitwise Operator\r\n",
    "#p    8 4 2 1\r\n",
    "# 2 = 0 0 1 0\r\n",
    "# 5 = 0 1 0 1\r\n",
    "#2&5= 0 0 0 0\r\n",
    "2 & 5\r\n",
    "\r\n",
    "#p    8 4 2 1\r\n",
    "# 2 = 0 0 1 0\r\n",
    "# 5 = 0 1 0 1\r\n",
    "#2|5= 0 1 1 1\r\n",
    "2 | 5\r\n",
    "\r\n",
    "# ~ 5 \r\n",
    "~ 5\r\n",
    "\r\n",
    "# ^ XOR\r\n",
    "#p    8 4 2 1\r\n",
    "# 3 = 0 0 1 1\r\n",
    "# 5 = 0 1 0 1\r\n",
    "#2|5= 0 1 1 0\r\n",
    "3 ^ 5\r\n",
    "\r\n",
    "# 2 << 1\r\n",
    "#p    8 4 2 1\r\n",
    "# 2 = 0 0 1 0\r\n",
    "#2<<1=0 1 0 0\r\n",
    "#2<<2=1 0 0 0\r\n",
    "2<<2\r\n",
    "#2>>1=0 0 0 1\r\n",
    "2>>1"
   ],
   "outputs": [],
   "metadata": {}
  },
  {
   "cell_type": "code",
   "execution_count": null,
   "source": [
    "# Special Assignment Operator\r\n",
    "num = 2\r\n",
    "num = num + 2\r\n",
    "num += 2\r\n",
    "num -= 2\r\n",
    "num *= 2\r\n",
    "num //= 2\r\n",
    "num **= 2\r\n",
    "num %= 2\r\n",
    "num"
   ],
   "outputs": [],
   "metadata": {}
  },
  {
   "cell_type": "code",
   "execution_count": null,
   "source": [
    "# In Operator\r\n",
    "\"h\" in \"happy\"\r\n",
    "\"h\" not in \"happy\"\r\n",
    "a = 2\r\n",
    "b = 2.0\r\n",
    "a is b"
   ],
   "outputs": [],
   "metadata": {}
  },
  {
   "cell_type": "code",
   "execution_count": null,
   "source": [
    "# Task 1 - Create a Calculator\r\n",
    "# Take two Numbers from user\r\n",
    "# Compute Addition, Subtraction, Multiplication, Division, Remainder and Square\r\n",
    "# Show all Result"
   ],
   "outputs": [],
   "metadata": {}
  },
  {
   "cell_type": "markdown",
   "source": [
    "## Data Structure"
   ],
   "metadata": {}
  },
  {
   "cell_type": "code",
   "execution_count": null,
   "source": [
    "# List\r\n",
    "rolls = [1,2,3,4,5,6,7,8,9]\r\n",
    "\r\n",
    "# Access\r\n",
    "rolls[3]\r\n",
    "rolls[8]\r\n",
    "\r\n",
    "# length\r\n",
    "index =len(rolls) - 1\r\n",
    "rolls[index]\r\n",
    "\r\n",
    "rolls[-1]\r\n",
    "rolls[-3]\r\n",
    "\r\n",
    "# Update\r\n",
    "rolls[3] = 10\r\n",
    "rolls\r\n",
    "\r\n",
    "# Slicnig\r\n",
    "rolls[1:4]\r\n",
    "rolls[3:]\r\n",
    "rolls[1::3]\r\n",
    "rolls[2::-1]\r\n",
    "rolls[2:7][::-1]\r\n",
    "\"happy\"[::-1]\r\n",
    "\r\n",
    "# Functions\r\n",
    "rolls.append(11)\r\n",
    "rolls.insert(0, 13)\r\n",
    "rolls.insert(3,13)\r\n",
    "rolls.remove(10)\r\n",
    "rolls.pop()\r\n",
    "rolls.pop()\r\n",
    "rolls.pop(4)\r\n",
    "rolls\r\n",
    "rolls.sort(reverse=True)\r\n",
    "rolls.count(13)\r\n",
    "rolls.index(13)\r\n",
    "rolls.extend([1,2,3,4,5])\r\n",
    "rolls\r\n",
    "# operation\r\n",
    "rolls+[1,2,3,4,5]\r\n",
    "rolls * 3\r\n"
   ],
   "outputs": [],
   "metadata": {}
  },
  {
   "cell_type": "code",
   "execution_count": null,
   "source": [
    "# Tuple\r\n",
    "rolls = (1,2,True,4,5,6,7,8,9)\r\n",
    "type(rolls)\r\n",
    "\r\n",
    "#Access Values\r\n",
    "rolls[1]\r\n",
    "\r\n",
    "#Update\r\n",
    "# rolls[0] = 0\r\n",
    "# del rolls[0]\r\n"
   ],
   "outputs": [],
   "metadata": {}
  },
  {
   "cell_type": "code",
   "execution_count": null,
   "source": [
    "#Set\r\n",
    "s1 = {1,2,3,3,5,6,7,8,9}\r\n",
    "s2 = {6,7,8,9,16,17}\r\n",
    "#Does not allow duplicates\r\n",
    "len(s1)\r\n",
    "\r\n",
    "# Aceess\r\n",
    "#s1[0]\r\n",
    "\r\n",
    "# Functions\r\n",
    "s1.add(11)\r\n",
    "s1.update((12,13))\r\n",
    "s1.union(s2)\r\n",
    "s1.intersection(s2)\r\n",
    "s1.difference(s2)\r\n",
    "s2.difference(s1)\r\n",
    "s1.difference_update(s2)\r\n",
    "s1.pop()\r\n",
    "s1.remove(11)\r\n",
    "s1"
   ],
   "outputs": [],
   "metadata": {}
  },
  {
   "cell_type": "code",
   "execution_count": null,
   "source": [
    "# Dictionary\r\n",
    "ages = 24\r\n",
    "d = {1: \"Alex\", 2:\"Alexa\", 3:\"Perry\", \"AvgH\":23, \"Ages\":ages}\r\n",
    "\r\n",
    "#Access\r\n",
    "d[3]\r\n",
    "d[\"AvgH\"]\r\n",
    "\r\n",
    "# Update\r\n",
    "d[\"Ages\"] = 30\r\n",
    "\r\n",
    "# add\r\n",
    "d[\"branch\"] = \"CSE\"\r\n",
    "\r\n",
    "# delete\r\n",
    "del d[3]\r\n",
    "d\r\n",
    "\r\n",
    "#Functions\r\n",
    "# d[\"AvgHsdfssf\"]\r\n",
    "d.get(\"branch\")\r\n",
    "d.items()\r\n",
    "d.keys()\r\n",
    "d.values()\r\n",
    "d.pop(1)\r\n",
    "d.popitem()\r\n",
    "d.update(AvgH=40)"
   ],
   "outputs": [],
   "metadata": {}
  },
  {
   "cell_type": "markdown",
   "source": [
    "## Conditional Statement"
   ],
   "metadata": {}
  },
  {
   "cell_type": "code",
   "execution_count": null,
   "source": [
    "# If\r\n",
    "# Take User input\r\n",
    "age = 24\r\n",
    "salary = 31000\r\n",
    "if (age >= 18) and (age<=60):\r\n",
    "    print(\"You are Eligible for Major Account\")\r\n",
    "    if salary> 40000:\r\n",
    "        print(\"Eligible for Credit Card\")\r\n",
    "        # if Salary is greater than 1L so eligible for Gold Credit Card otherwise Silver Credit Card\r\n",
    "        # If Slary is greater than 2L then Eligible for Platinum Credit Card\r\n",
    "    else:\r\n",
    "        print(\"Eligible for Debit Card\")\r\n",
    "elif (age>=12 and (age<=17)):\r\n",
    "    print(\"You are Eligible! for Minor Account\")\r\n",
    "else:\r\n",
    "    print(\"You are not eligible for any account\")"
   ],
   "outputs": [],
   "metadata": {}
  },
  {
   "cell_type": "code",
   "execution_count": null,
   "source": [
    "# Scoring or Grading System\r\n",
    "# Take user Input of 6 subjects\r\n",
    "# Score them according average marks A++(90-100), A+(75-89), A(60-74), B(45-59), C(30-44),D(0-29)"
   ],
   "outputs": [],
   "metadata": {}
  },
  {
   "cell_type": "markdown",
   "source": [
    "## Loops"
   ],
   "metadata": {}
  },
  {
   "cell_type": "markdown",
   "source": [
    "## Functions"
   ],
   "metadata": {}
  },
  {
   "cell_type": "markdown",
   "source": [],
   "metadata": {}
  },
  {
   "cell_type": "code",
   "execution_count": 74,
   "source": [
    "import keyword\r\n",
    "keyword.kwlist"
   ],
   "outputs": [
    {
     "output_type": "execute_result",
     "data": {
      "text/plain": [
       "['False',\n",
       " 'None',\n",
       " 'True',\n",
       " '__peg_parser__',\n",
       " 'and',\n",
       " 'as',\n",
       " 'assert',\n",
       " 'async',\n",
       " 'await',\n",
       " 'break',\n",
       " 'class',\n",
       " 'continue',\n",
       " 'def',\n",
       " 'del',\n",
       " 'elif',\n",
       " 'else',\n",
       " 'except',\n",
       " 'finally',\n",
       " 'for',\n",
       " 'from',\n",
       " 'global',\n",
       " 'if',\n",
       " 'import',\n",
       " 'in',\n",
       " 'is',\n",
       " 'lambda',\n",
       " 'nonlocal',\n",
       " 'not',\n",
       " 'or',\n",
       " 'pass',\n",
       " 'raise',\n",
       " 'return',\n",
       " 'try',\n",
       " 'while',\n",
       " 'with',\n",
       " 'yield']"
      ]
     },
     "metadata": {},
     "execution_count": 74
    }
   ],
   "metadata": {}
  },
  {
   "cell_type": "markdown",
   "source": [],
   "metadata": {}
  }
 ],
 "metadata": {
  "orig_nbformat": 4,
  "language_info": {
   "name": "python",
   "version": "3.9.6",
   "mimetype": "text/x-python",
   "codemirror_mode": {
    "name": "ipython",
    "version": 3
   },
   "pygments_lexer": "ipython3",
   "nbconvert_exporter": "python",
   "file_extension": ".py"
  },
  "kernelspec": {
   "name": "python3",
   "display_name": "Python 3.9.6 64-bit"
  },
  "interpreter": {
   "hash": "d4dd58fea9fb5bc29bccf1b79358a561f2f1a58caa97e932fa36505194d38bf7"
  }
 },
 "nbformat": 4,
 "nbformat_minor": 2
}