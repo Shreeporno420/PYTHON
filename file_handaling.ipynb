{
 "cells": [
  {
   "cell_type": "code",
   "execution_count": null,
   "source": [
    "#Flie_creaation\r\n",
    "#writing_mode\r\n",
    "f=open(\"File1.txt\",mode=\"w\")\r\n",
    "f.write(\"My name is Shreeporno\")\r\n",
    "f.writelines([\"\\nIndia\",\"\\nBangladesh\"])\r\n",
    "f.close() "
   ],
   "outputs": [],
   "metadata": {}
  },
  {
   "cell_type": "code",
   "execution_count": null,
   "source": [
    "#append_mode\r\n",
    "f=open(\"File1.txt\",mode=\"a\")\r\n",
    "f.write(\"My name is Shreeporno\")\r\n",
    "f.writelines([\"\\nApple\",\"\\nOrange\"])\r\n",
    "print(f.writable())\r\n",
    "f.close() "
   ],
   "outputs": [],
   "metadata": {}
  },
  {
   "cell_type": "code",
   "execution_count": null,
   "source": [
    "#File_reading \r\n",
    "f=open(\"File1.txt\",mode=\"r\")\r\n",
    "print(f.readlines())\r\n",
    "for line in f.readlines():\r\n",
    "    print(line)\r\n",
    "f.close() "
   ],
   "outputs": [],
   "metadata": {}
  },
  {
   "cell_type": "code",
   "execution_count": null,
   "source": [
    "#read + write\r\n",
    "f=open(\"File1.txt\",mode=\"r+\")\r\n",
    "print(f.read()) \r\n",
    "f.writelines(\"\\nMy name is Shreeporno\")\r\n",
    "f.close() "
   ],
   "outputs": [],
   "metadata": {}
  },
  {
   "cell_type": "code",
   "execution_count": null,
   "source": [
    "#write + read\r\n",
    "f=open(\"File1.txt\",mode=\"w+\")\r\n",
    "print(f.read()) \r\n",
    "f.writelines(\"My name is Shreeporno\")\r\n",
    "f.close() \r\n",
    "\r\n",
    "f=open(\"File1.txt\",mode=\"r\")\r\n",
    "print(f.read()) "
   ],
   "outputs": [],
   "metadata": {}
  },
  {
   "cell_type": "code",
   "execution_count": null,
   "source": [
    "#write_in_binary_mode\r\n",
    "f=open(\"File1.txt\",mode=\"wb\")\r\n",
    "f.write(b\"My name is Shreeporno\")\r\n",
    "print(f.write)\r\n",
    "f.close() "
   ],
   "outputs": [],
   "metadata": {}
  },
  {
   "cell_type": "code",
   "execution_count": null,
   "source": [
    "#wappend_in_binary_mode\r\n",
    "f=open(\"File1.txt\",mode=\"ab\")\r\n",
    "f.write(b\"My name is Shreeporno\")\r\n",
    "print(f.write)\r\n",
    "#f.closed\r\n",
    "f.close()"
   ],
   "outputs": [],
   "metadata": {}
  },
  {
   "cell_type": "code",
   "execution_count": null,
   "source": [
    "##file_handaling_with_sesstion\r\n",
    "with open(\"File1.txt\",mode=\"a\") as f:\r\n",
    "    f.write(\"Writing lines\")\r\n"
   ],
   "outputs": [],
   "metadata": {}
  },
  {
   "cell_type": "code",
   "execution_count": null,
   "source": [
    "f=open(\"File1.txt\",mode=\"x\")\r\n",
    "f.write(\"Python\")\r\n",
    "print(f.writable())\r\n",
    "f.close() "
   ],
   "outputs": [],
   "metadata": {}
  }
 ],
 "metadata": {
  "orig_nbformat": 4,
  "language_info": {
   "name": "python",
   "version": "3.9.6",
   "mimetype": "text/x-python",
   "codemirror_mode": {
    "name": "ipython",
    "version": 3
   },
   "pygments_lexer": "ipython3",
   "nbconvert_exporter": "python",
   "file_extension": ".py"
  },
  "kernelspec": {
   "name": "python3",
   "display_name": "Python 3.9.6 64-bit"
  },
  "interpreter": {
   "hash": "d4dd58fea9fb5bc29bccf1b79358a561f2f1a58caa97e932fa36505194d38bf7"
  }
 },
 "nbformat": 4,
 "nbformat_minor": 2
}