{
 "cells": [
  {
   "cell_type": "code",
   "execution_count": null,
   "source": [
    "print(\"Hello!\")\r\n",
    "id_num=int(input(\"Enter you ID no\"))\r\n",
    "\r\n",
    "print(\"Greetings\")"
   ],
   "outputs": [],
   "metadata": {}
  },
  {
   "cell_type": "code",
   "execution_count": null,
   "source": [
    "#exception_handaling\r\n",
    "print(\"Hello!\")\r\n",
    "try:\r\n",
    "  id_num=int(input(\"Enter you ID no\"))\r\n",
    "  a= 2+\"g\"\r\n",
    "except ValueError as e:\r\n",
    "    print(e)  \r\n",
    "except TypeError as e:\r\n",
    "    print(\"2nd expect blcok\",e)  \r\n",
    "print(\"Greetings\")"
   ],
   "outputs": [],
   "metadata": {}
  },
  {
   "cell_type": "code",
   "execution_count": null,
   "source": [
    "#exception: mother of all of error\r\n",
    "print(\"Hello!\")\r\n",
    "try:\r\n",
    "  id_num=int(input(\"Enter you ID no\"))\r\n",
    "  a= 2+\"g\"\r\n",
    "\r\n",
    "except Exception as e:\r\n",
    "    print(e)  \r\n",
    "\r\n",
    "print(\"Greetings\")"
   ],
   "outputs": [],
   "metadata": {}
  },
  {
   "cell_type": "code",
   "execution_count": null,
   "source": [
    "#finally\r\n",
    "print(\"Hello!\")\r\n",
    "try:\r\n",
    "  id_num=int(input(\"Enter you ID no\"))\r\n",
    "  a= 2+\"g\"\r\n",
    "\r\n",
    "except Exception as e:\r\n",
    "    print(e)  \r\n",
    "finally:\r\n",
    " print(\"Greetings\")"
   ],
   "outputs": [],
   "metadata": {}
  },
  {
   "cell_type": "code",
   "execution_count": null,
   "source": [
    "print(\"Hello!\")\r\n",
    "try:\r\n",
    "    f=open(\"file6.txt\",mode=\"r\")\r\n",
    "    print(f.read())\r\n",
    "except Exception as e:\r\n",
    "    print(e)  \r\n",
    "    print(\"creating file.......\")\r\n",
    "    f=open(\"file6.txt\",mode=\"w\")\r\n",
    "    print(\"Created\")\r\n",
    "finally:\r\n",
    "    f.close()\r\n",
    "    print(\"Greetings\")"
   ],
   "outputs": [],
   "metadata": {}
  },
  {
   "cell_type": "code",
   "execution_count": null,
   "source": [
    "print(\"hello\")\r\n",
    "try:\r\n",
    "    year_of_birth=int(input(\"Enter Bithday\"))\r\n",
    "    if year_of_birth <= 2021:\r\n",
    "        print(year_of_birth)\r\n",
    "    else:\r\n",
    "        raise Exception(\"invalid year of birth!, we are on 2021\")\r\n",
    "\r\n",
    "except Exception as e:\r\n",
    "    print(e)\r\n",
    "\r\n",
    "finally:\r\n",
    "    print(\"Greetings\")"
   ],
   "outputs": [],
   "metadata": {}
  },
  {
   "cell_type": "code",
   "execution_count": 14,
   "source": [
    "X=3\r\n",
    "eval(\"X*2+3\")"
   ],
   "outputs": [
    {
     "output_type": "execute_result",
     "data": {
      "text/plain": [
       "9"
      ]
     },
     "metadata": {},
     "execution_count": 14
    }
   ],
   "metadata": {}
  }
 ],
 "metadata": {
  "orig_nbformat": 4,
  "language_info": {
   "name": "python",
   "version": "3.9.6",
   "mimetype": "text/x-python",
   "codemirror_mode": {
    "name": "ipython",
    "version": 3
   },
   "pygments_lexer": "ipython3",
   "nbconvert_exporter": "python",
   "file_extension": ".py"
  },
  "kernelspec": {
   "name": "python3",
   "display_name": "Python 3.9.6 64-bit"
  },
  "interpreter": {
   "hash": "d4dd58fea9fb5bc29bccf1b79358a561f2f1a58caa97e932fa36505194d38bf7"
  }
 },
 "nbformat": 4,
 "nbformat_minor": 2
}