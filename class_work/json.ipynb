{
 "cells": [
  {
   "cell_type": "code",
   "execution_count": null,
   "metadata": {},
   "outputs": [],
   "source": [
    "import json"
   ]
  },
  {
   "cell_type": "code",
   "execution_count": null,
   "metadata": {},
   "outputs": [],
   "source": [
    "jsonData = None\n",
    "with open('newIris.json', mode='r') as f:\n",
    "    jsonData = json.load(f)\n",
    "    print(type(jsonData[0]))\n",
    "    for row in jsonData:\n",
    "        print(row)\n",
    "    "
   ]
  },
  {
   "cell_type": "code",
   "execution_count": null,
   "metadata": {},
   "outputs": [],
   "source": [
    "with open('newIris.json', mode='w') as f:\n",
    "    json.dump(jsonData, f)"
   ]
  },
  {
   "cell_type": "code",
   "execution_count": 33,
   "metadata": {},
   "outputs": [],
   "source": [
    "rows ='''\n",
    "    {\"Roll\":2, \"Name\":\"John\", \"Age\":24, \"Branch\":\"CSE\"},\n",
    "    {\"Roll\":3, \"Name\":\"John\", \"Age\":24, \"Branch\":\"CSE\"},\n",
    "    {\"Roll\":4, \"Name\":\"John\", \"Age\":24, \"Branch\":\"CSE\"}\n",
    "'''"
   ]
  },
  {
   "cell_type": "code",
   "execution_count": 40,
   "metadata": {},
   "outputs": [
    {
     "name": "stdout",
     "output_type": "stream",
     "text": [
      "dict_keys(['Roll', 'Name', 'Age', 'Branch'])\n",
      "dict_keys(['Roll', 'Name', 'Age', 'Branch'])\n",
      "dict_keys(['Roll', 'Name', 'Age', 'Branch'])\n"
     ]
    }
   ],
   "source": [
    "# decoder = json.JSONDecoder()\n",
    "# decoded = decoder.decode(rows)\n",
    "data = json.loads(rows)\n",
    "for row in data:\n",
    "    print(row.keys())\n"
   ]
  },
  {
   "cell_type": "code",
   "execution_count": 42,
   "metadata": {},
   "outputs": [],
   "source": [
    "with open('student.json', mode='w', newline='\\n') as f:\n",
    "    json.dump(data, f)"
   ]
  },
  {
   "cell_type": "code",
   "execution_count": 44,
   "metadata": {},
   "outputs": [
    {
     "data": {
      "text/plain": [
       "str"
      ]
     },
     "execution_count": 44,
     "metadata": {},
     "output_type": "execute_result"
    }
   ],
   "source": [
    "type(json.dumps(jsonData))"
   ]
  }
 ],
 "metadata": {
  "interpreter": {
   "hash": "14a336a61cfaefff504b47e2b8e6e50961f0feafa7b211f8ff23081790c52144"
  },
  "kernelspec": {
   "display_name": "Python 3.9.7 64-bit",
   "name": "python3"
  },
  "language_info": {
   "codemirror_mode": {
    "name": "ipython",
    "version": 3
   },
   "file_extension": ".py",
   "mimetype": "text/x-python",
   "name": "python",
   "nbconvert_exporter": "python",
   "pygments_lexer": "ipython3",
   "version": "3.9.7"
  },
  "orig_nbformat": 4
 },
 "nbformat": 4,
 "nbformat_minor": 2
}
