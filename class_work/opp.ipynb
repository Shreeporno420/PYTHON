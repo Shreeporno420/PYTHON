{
 "cells": [
  {
   "cell_type": "markdown",
   "source": [
    "OPP\r\n",
    "*object\r\n",
    "*class"
   ],
   "metadata": {}
  },
  {
   "cell_type": "code",
   "execution_count": 103,
   "source": [
    "class human:\r\n",
    "    \r\n",
    "    legs=2\r\n",
    "    hand=2\r\n",
    "    #resticting\r\n",
    "    __ph=\"111111111\"\r\n",
    "    #constractor\r\n",
    "    def __init__(self,name):\r\n",
    "        self.name=name\r\n",
    "        print(\"constructing...\")\r\n",
    "\r\n",
    "    #behaviour and Method\r\n",
    "    def speak(self):\r\n",
    "        return \"speaking...\" \r\n",
    "\r\n",
    "    def walking (self):\r\n",
    "\r\n",
    "        return \"walking...with 2 legs \"\r\n",
    "\r\n",
    "    #special function\r\n",
    "    def __str__(self) ->str:\r\n",
    "        return f\"{self.name} human object\"\r\n",
    "\r\n",
    "\r\n",
    "   "
   ],
   "outputs": [],
   "metadata": {}
  },
  {
   "cell_type": "code",
   "execution_count": 104,
   "source": [
    "#Creating Object\r\n",
    "Shreeporno=human(\"Shreeporno\")\r\n",
    "Shreeporno.legs\r\n",
    "Shreeporno.speak()\r\n",
    "Shreeporno.walking()\r\n",
    "print(Shreeporno) "
   ],
   "outputs": [
    {
     "output_type": "stream",
     "name": "stdout",
     "text": [
      "constructing...\n",
      "Shreeporno human object\n"
     ]
    }
   ],
   "metadata": {}
  },
  {
   "cell_type": "code",
   "execution_count": 105,
   "source": [
    "\r\n",
    "alexa=human(\"alexa\")\r\n",
    "alexa.legs\r\n",
    "alexa.name\r\n",
    "alexa.speak() "
   ],
   "outputs": [
    {
     "output_type": "stream",
     "name": "stdout",
     "text": [
      "constructing...\n"
     ]
    },
    {
     "output_type": "execute_result",
     "data": {
      "text/plain": [
       "'speaking...'"
      ]
     },
     "metadata": {},
     "execution_count": 105
    }
   ],
   "metadata": {}
  },
  {
   "cell_type": "code",
   "execution_count": 109,
   "source": [
    "#Inheritance\r\n",
    "class Men(human):\r\n",
    "  gender=\"male\"\r\n",
    "  power=\"1\"\r\n",
    "  speak=\"Speak\"\r\n",
    "\r\n",
    "  def voicetype(self):\r\n",
    "       return \"Heavy\""
   ],
   "outputs": [],
   "metadata": {}
  },
  {
   "cell_type": "code",
   "execution_count": 113,
   "source": [
    "class Women(human):\r\n",
    "   gender=\"female\""
   ],
   "outputs": [],
   "metadata": {}
  },
  {
   "cell_type": "code",
   "execution_count": 111,
   "source": [
    "jonhny=Men(\"jonhny\")\r\n",
    "\r\n",
    "jonhny.gender\r\n",
    "\r\n",
    "jonhny.voicetype()"
   ],
   "outputs": [
    {
     "output_type": "stream",
     "name": "stdout",
     "text": [
      "constructing...\n"
     ]
    },
    {
     "output_type": "execute_result",
     "data": {
      "text/plain": [
       "'Heavy'"
      ]
     },
     "metadata": {},
     "execution_count": 111
    }
   ],
   "metadata": {}
  },
  {
   "cell_type": "code",
   "execution_count": 115,
   "source": [
    "alxa = Women(\"alexa\")\r\n",
    "\r\n",
    "alxa.gender"
   ],
   "outputs": [
    {
     "output_type": "stream",
     "name": "stdout",
     "text": [
      "constructing...\n"
     ]
    },
    {
     "output_type": "execute_result",
     "data": {
      "text/plain": [
       "'female'"
      ]
     },
     "metadata": {},
     "execution_count": 115
    }
   ],
   "metadata": {}
  },
  {
   "cell_type": "code",
   "execution_count": null,
   "source": [
    "#multiple Inheritance\r\n",
    "class child(Men,Women):\r\n",
    "    pass\r\n",
    "\r\n",
    "john=child(\"john\") \r\n",
    "john.gender\r\n",
    "john.power"
   ],
   "outputs": [],
   "metadata": {}
  },
  {
   "cell_type": "code",
   "execution_count": null,
   "source": [
    "#polymorphism\r\n",
    "#Type- compiletime and runtime\r\n",
    "def add(a,b):\r\n",
    "\r\n",
    "    return a+b\r\n",
    "\r\n",
    "add(5,5)\r\n",
    "\r\n",
    "def add(a,b,c):\r\n",
    "\r\n",
    "    return a+b-c\r\n",
    "\r\n",
    "#class Based\r\n",
    "add(5,5,5) \r\n"
   ],
   "outputs": [],
   "metadata": {}
  },
  {
   "cell_type": "code",
   "execution_count": null,
   "source": [
    "#class based\r\n",
    "class child(Men,Women):\r\n",
    "    pass\r\n",
    "\r\n",
    "john=child(\"john\") \r\n",
    "john.gender\r\n",
    "john.power \r\n",
    "john.speak()"
   ],
   "outputs": [],
   "metadata": {}
  }
 ],
 "metadata": {
  "orig_nbformat": 4,
  "language_info": {
   "name": "python",
   "version": "3.9.6",
   "mimetype": "text/x-python",
   "codemirror_mode": {
    "name": "ipython",
    "version": 3
   },
   "pygments_lexer": "ipython3",
   "nbconvert_exporter": "python",
   "file_extension": ".py"
  },
  "kernelspec": {
   "name": "python3",
   "display_name": "Python 3.9.6 64-bit"
  },
  "interpreter": {
   "hash": "d4dd58fea9fb5bc29bccf1b79358a561f2f1a58caa97e932fa36505194d38bf7"
  }
 },
 "nbformat": 4,
 "nbformat_minor": 2
}