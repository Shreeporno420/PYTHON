{
 "cells": [
  {
   "cell_type": "code",
   "execution_count": 1,
   "metadata": {},
   "outputs": [],
   "source": [
    "import csv"
   ]
  },
  {
   "cell_type": "code",
   "execution_count": 12,
   "metadata": {},
   "outputs": [],
   "source": [
    "data = ['Roll','Name', 'Age', 'Branch']\n",
    "rows = [\n",
    "    [2, 'John', '23', 'CSE'],\n",
    "    [2, 'John', '23', 'CSE'],\n",
    "    [4, 'John', '23', 'CSE']\n",
    "]\n",
    "with open('student.csv', mode='w', newline='') as f:\n",
    "    csvwriter = csv.writer(f, delimiter='|')\n",
    "    csvwriter.writerow(data)\n",
    "    csvwriter.writerow([1, 'John', '23', 'CSE'])\n",
    "    csvwriter.writerows(rows)\n"
   ]
  },
  {
   "cell_type": "code",
   "execution_count": 10,
   "metadata": {},
   "outputs": [
    {
     "name": "stdout",
     "output_type": "stream",
     "text": [
      "Age\n",
      "23\n",
      "23\n",
      "23\n",
      "23\n"
     ]
    }
   ],
   "source": [
    "with open('student.csv', mode='r') as f:\n",
    "    csvreader = csv.reader(f)\n",
    "    for row in csvreader:\n",
    "        print(row[2])"
   ]
  },
  {
   "cell_type": "code",
   "execution_count": 19,
   "metadata": {},
   "outputs": [],
   "source": [
    "data = ['Roll','Name', 'Age', 'Branch']\n",
    "rows = [\n",
    "    {'Roll':2, 'Name':'John', 'Age':'23', 'Branch':'CSE'},\n",
    "    {'Roll':2, 'Name':'John', 'Age':'23', 'Branch':'CSE'},\n",
    "    {'Roll':4, 'Name':'John', 'Age':'23', 'Branch':'CSE'}\n",
    "]\n",
    "\n",
    "with open('studentD.csv', mode='w', newline='') as f:\n",
    "    dictwriter = csv.DictWriter(f, delimiter='|', fieldnames=data)\n",
    "    dictwriter.writeheader()\n",
    "    dictwriter.writerow({'Roll':1, 'Name':'John', 'Age':'23', 'Branch':'CSE'})\n",
    "    dictwriter.writerows(rows)"
   ]
  },
  {
   "cell_type": "code",
   "execution_count": null,
   "metadata": {},
   "outputs": [],
   "source": []
  }
 ],
 "metadata": {
  "interpreter": {
   "hash": "14a336a61cfaefff504b47e2b8e6e50961f0feafa7b211f8ff23081790c52144"
  },
  "kernelspec": {
   "display_name": "Python 3.9.7 64-bit",
   "name": "python3"
  },
  "language_info": {
   "codemirror_mode": {
    "name": "ipython",
    "version": 3
   },
   "file_extension": ".py",
   "mimetype": "text/x-python",
   "name": "python",
   "nbconvert_exporter": "python",
   "pygments_lexer": "ipython3",
   "version": "3.9.7"
  },
  "orig_nbformat": 4
 },
 "nbformat": 4,
 "nbformat_minor": 2
}
