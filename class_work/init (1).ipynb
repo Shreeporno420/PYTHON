{
 "cells": [
  {
   "cell_type": "markdown",
   "source": [
    "## INPUT and OUTPUT"
   ],
   "metadata": {}
  },
  {
   "cell_type": "code",
   "execution_count": null,
   "source": [
    "print(\"Hello Python!\")\r\n",
    "n2 = input(\"Enter Your Name: \")\r\n",
    "print(\"Welcome \", n2)"
   ],
   "outputs": [],
   "metadata": {}
  },
  {
   "cell_type": "markdown",
   "source": [
    "## Variable and Data Types"
   ],
   "metadata": {}
  },
  {
   "cell_type": "code",
   "execution_count": null,
   "source": [
    "#String\r\n",
    "name = \"Happy123\"\r\n",
    "version = 'Python 3'\r\n",
    "fname = \"Father's\"\r\n",
    "fname = 'Father\"s'\r\n",
    "print(type(name))\r\n",
    "print(version)\r\n",
    "fname"
   ],
   "outputs": [],
   "metadata": {}
  },
  {
   "cell_type": "code",
   "execution_count": null,
   "source": [
    "# Integer \r\n",
    "age = 24\r\n",
    "print(type(age))\r\n",
    "age"
   ],
   "outputs": [],
   "metadata": {}
  },
  {
   "cell_type": "code",
   "execution_count": null,
   "source": [
    "# Float\r\n",
    "taka = 200.75\r\n",
    "print(type(taka))\r\n",
    "taka"
   ],
   "outputs": [],
   "metadata": {}
  },
  {
   "cell_type": "code",
   "execution_count": null,
   "source": [
    "# Boolean\r\n",
    "is_married = False\r\n",
    "print(type(is_married))\r\n",
    "is_married"
   ],
   "outputs": [],
   "metadata": {}
  },
  {
   "cell_type": "markdown",
   "source": [
    "## String Formating"
   ],
   "metadata": {}
  },
  {
   "cell_type": "code",
   "execution_count": null,
   "source": [
    "print(\"Hello Python!\")\r\n",
    "name = input(\"Enter Your Name: \")\r\n",
    "age = int(input(\"Enter Your Age: \"))\r\n",
    "salary = float(input(\"Enter Your Salary: \"))\r\n",
    "print(\"Welcome \", name,\" How are You?\")\r\n",
    "print(\"Welcome \"+ name +\" How are You?\")\r\n",
    "print(\"Welcome {0} {1} {2} {3}  How are You?\".format(name,age, salary,\"Dhaka\"))\r\n",
    "print(\"Welcome %s %d %.2f %s  How are You?\" %(name,age, salary,\"Dhaka\"), end='@')\r\n",
    "print(f\"Welcome {name} {age} {salary} \\n How are You?\")"
   ],
   "outputs": [],
   "metadata": {}
  },
  {
   "cell_type": "markdown",
   "source": [
    "## Operators"
   ],
   "metadata": {}
  },
  {
   "cell_type": "code",
   "execution_count": null,
   "source": [
    "# Arthmatic\r\n",
    "5+3\r\n",
    "5-3\r\n",
    "5*3\r\n",
    "14 / 3\r\n",
    "14 // 3\r\n",
    "2 ** 3\r\n",
    "14 % 3"
   ],
   "outputs": [],
   "metadata": {}
  },
  {
   "cell_type": "code",
   "execution_count": null,
   "source": [
    "# Comparison\r\n",
    "1 > 2\r\n",
    "1 < 2\r\n",
    "18 >= 18\r\n",
    "18 <= 18\r\n",
    "1 == 1\r\n",
    "1 == 2"
   ],
   "outputs": [],
   "metadata": {}
  },
  {
   "cell_type": "code",
   "execution_count": null,
   "source": [
    "# Logical\r\n",
    "# True and True => True\r\n",
    "# Fasle and True => Fasle\r\n",
    "# True and False => False\r\n",
    "# False and Fasle => False\r\n",
    "False and False\r\n",
    "\r\n",
    "# True or True => True\r\n",
    "# Fasle or True => True\r\n",
    "# True or False => True\r\n",
    "# False or Fasle => False\r\n",
    "False or True\r\n",
    "\r\n",
    "# not True\r\n",
    "not True \r\n",
    "not False"
   ],
   "outputs": [],
   "metadata": {}
  },
  {
   "cell_type": "code",
   "execution_count": null,
   "source": [
    "# Bitwise Operator\r\n",
    "#p    8 4 2 1\r\n",
    "# 2 = 0 0 1 0\r\n",
    "# 5 = 0 1 0 1\r\n",
    "#2&5= 0 0 0 0\r\n",
    "2 & 5\r\n",
    "\r\n",
    "#p    8 4 2 1\r\n",
    "# 2 = 0 0 1 0\r\n",
    "# 5 = 0 1 0 1\r\n",
    "#2|5= 0 1 1 1\r\n",
    "2 | 5\r\n",
    "\r\n",
    "# ~ 5 \r\n",
    "~ 5\r\n",
    "\r\n",
    "# ^ XOR\r\n",
    "#p    8 4 2 1\r\n",
    "# 3 = 0 0 1 1\r\n",
    "# 5 = 0 1 0 1\r\n",
    "#2|5= 0 1 1 0\r\n",
    "3 ^ 5\r\n",
    "\r\n",
    "# 2 << 1\r\n",
    "#p    8 4 2 1\r\n",
    "# 2 = 0 0 1 0\r\n",
    "#2<<1=0 1 0 0\r\n",
    "#2<<2=1 0 0 0\r\n",
    "2<<2\r\n",
    "#2>>1=0 0 0 1\r\n",
    "2>>1"
   ],
   "outputs": [],
   "metadata": {}
  },
  {
   "cell_type": "code",
   "execution_count": null,
   "source": [
    "# Special Assignment Operator\r\n",
    "num = 2\r\n",
    "num = num + 2\r\n",
    "num += 2\r\n",
    "num -= 2\r\n",
    "num *= 2\r\n",
    "num //= 2\r\n",
    "num **= 2\r\n",
    "num %= 2\r\n",
    "num"
   ],
   "outputs": [],
   "metadata": {}
  },
  {
   "cell_type": "code",
   "execution_count": null,
   "source": [
    "# In Operator\r\n",
    "\"h\" in \"happy\"\r\n",
    "\"h\" not in \"happy\"\r\n",
    "a = 2\r\n",
    "b = 2.0\r\n",
    "a is b"
   ],
   "outputs": [],
   "metadata": {}
  },
  {
   "cell_type": "code",
   "execution_count": null,
   "source": [
    "# Task 1 - Create a Calculator\r\n",
    "# Take two Numbers from user\r\n",
    "# Compute Addition, Subtraction, Multiplication, Division, Remainder and Square\r\n",
    "# Show all Result"
   ],
   "outputs": [],
   "metadata": {}
  },
  {
   "cell_type": "markdown",
   "source": [
    "## Data Structure"
   ],
   "metadata": {}
  },
  {
   "cell_type": "code",
   "execution_count": null,
   "source": [
    "# List\r\n",
    "rolls = [1,2,3,4,5,6,7,8,9]\r\n",
    "\r\n",
    "# Access\r\n",
    "rolls[3]\r\n",
    "rolls[8]\r\n",
    "\r\n",
    "# length\r\n",
    "index =len(rolls) - 1\r\n",
    "rolls[index]\r\n",
    "\r\n",
    "rolls[-1]\r\n",
    "rolls[-3]\r\n",
    "\r\n",
    "# Update\r\n",
    "rolls[3] = 10\r\n",
    "rolls\r\n",
    "\r\n",
    "# Slicnig\r\n",
    "rolls[1:4]\r\n",
    "rolls[3:]\r\n",
    "rolls[1::3]\r\n",
    "rolls[2::-1]\r\n",
    "rolls[2:7][::-1]\r\n",
    "\"happy\"[::-1]\r\n",
    "\r\n",
    "# Functions\r\n",
    "rolls.append(11)\r\n",
    "rolls.insert(0, 13)\r\n",
    "rolls.insert(3,13)\r\n",
    "rolls.remove(10)\r\n",
    "rolls.pop()\r\n",
    "rolls.pop()\r\n",
    "rolls.pop(4)\r\n",
    "rolls\r\n",
    "rolls.sort(reverse=True)\r\n",
    "rolls.count(13)\r\n",
    "rolls.index(13)\r\n",
    "rolls.extend([1,2,3,4,5])\r\n",
    "rolls\r\n",
    "# operation\r\n",
    "rolls+[1,2,3,4,5]\r\n",
    "rolls * 3\r\n"
   ],
   "outputs": [],
   "metadata": {}
  },
  {
   "cell_type": "code",
   "execution_count": null,
   "source": [
    "# Tuple\r\n",
    "rolls = (1,2,True,4,5,6,7,8,9)\r\n",
    "type(rolls)\r\n",
    "\r\n",
    "#Access Values\r\n",
    "rolls[1]\r\n",
    "\r\n",
    "#Update\r\n",
    "# rolls[0] = 0\r\n",
    "# del rolls[0]\r\n"
   ],
   "outputs": [],
   "metadata": {}
  },
  {
   "cell_type": "code",
   "execution_count": null,
   "source": [
    "#Set\r\n",
    "s1 = {1,2,3,3,5,6,7,8,9}\r\n",
    "s2 = {6,7,8,9,16,17}\r\n",
    "#Does not allow duplicates\r\n",
    "len(s1)\r\n",
    "\r\n",
    "# Aceess\r\n",
    "#s1[0]\r\n",
    "\r\n",
    "# Functions\r\n",
    "s1.add(11)\r\n",
    "s1.update((12,13))\r\n",
    "s1.union(s2)\r\n",
    "s1.intersection(s2)\r\n",
    "s1.difference(s2)\r\n",
    "s2.difference(s1)\r\n",
    "s1.difference_update(s2)\r\n",
    "s1.pop()\r\n",
    "s1.remove(11)\r\n",
    "s1"
   ],
   "outputs": [],
   "metadata": {}
  },
  {
   "cell_type": "code",
   "execution_count": null,
   "source": [
    "# Dictionary\r\n",
    "ages = 24\r\n",
    "d = {1: \"Alex\", 2:\"Alexa\", 3:\"Perry\", \"AvgH\":23, \"Ages\":ages}\r\n",
    "\r\n",
    "#Access\r\n",
    "d[3]\r\n",
    "d[\"AvgH\"]\r\n",
    "\r\n",
    "# Update\r\n",
    "d[\"Ages\"] = 30\r\n",
    "\r\n",
    "# add\r\n",
    "d[\"branch\"] = \"CSE\"\r\n",
    "\r\n",
    "# delete\r\n",
    "del d[3]\r\n",
    "d\r\n",
    "\r\n",
    "#Functions\r\n",
    "# d[\"AvgHsdfssf\"]\r\n",
    "d.get(\"branch\")\r\n",
    "d.items()\r\n",
    "d.keys()\r\n",
    "d.values()\r\n",
    "d.pop(1)\r\n",
    "d.popitem()\r\n",
    "d.update(AvgH=40)"
   ],
   "outputs": [],
   "metadata": {}
  },
  {
   "cell_type": "markdown",
   "source": [
    "## Conditional Statement"
   ],
   "metadata": {}
  },
  {
   "cell_type": "code",
   "execution_count": null,
   "source": [
    "# If\r\n",
    "# Take User input\r\n",
    "age = 24\r\n",
    "salary = 31000\r\n",
    "if (age >= 18) and (age<=60):\r\n",
    "    print(\"You are Eligible for Major Account\")\r\n",
    "    if salary> 40000:\r\n",
    "        print(\"Eligible for Credit Card\")\r\n",
    "        # if Salary is greater than 1L so eligible for Gold Credit Card otherwise Silver Credit Card\r\n",
    "        # If Slary is greater than 2L then Eligible for Platinum Credit Card\r\n",
    "    else:\r\n",
    "        print(\"Eligible for Debit Card\")\r\n",
    "elif (age>=12 and (age<=17)):\r\n",
    "    print(\"You are Eligible! for Minor Account\")\r\n",
    "else:\r\n",
    "    print(\"You are not eligible for any account\")"
   ],
   "outputs": [],
   "metadata": {}
  },
  {
   "cell_type": "code",
   "execution_count": null,
   "source": [
    "# Scoring or Grading System\r\n",
    "# Take user Input of 6 subjects\r\n",
    "# Score them according average marks A++(90-100), A+(75-89), A(60-74), B(45-59), C(30-44),D(0-29)"
   ],
   "outputs": [],
   "metadata": {}
  },
  {
   "cell_type": "markdown",
   "source": [
    "## Loops"
   ],
   "metadata": {}
  },
  {
   "cell_type": "code",
   "execution_count": null,
   "source": [
    "#while\r\n",
    "start = 1\r\n",
    "end = 10\r\n",
    "while start <= end:\r\n",
    "    if start%2 == 1:\r\n",
    "        print(start,end=' ')\r\n",
    "    start = start + 1\r\n"
   ],
   "outputs": [],
   "metadata": {}
  },
  {
   "cell_type": "code",
   "execution_count": null,
   "source": [
    "#Use of break Keyword\r\n",
    "start = 1\r\n",
    "end = 10\r\n",
    "while start <= end:\r\n",
    "    print(start,end=' ')\r\n",
    "    if start == 5:\r\n",
    "        break\r\n",
    "    start = start + 1"
   ],
   "outputs": [],
   "metadata": {}
  },
  {
   "cell_type": "code",
   "execution_count": null,
   "source": [
    "## Use of continue\r\n",
    "start = 1\r\n",
    "end = 10\r\n",
    "while start < end:\r\n",
    "    start = start + 1\r\n",
    "    if start <= 6:\r\n",
    "        continue\r\n",
    "    print(start,end=' ')"
   ],
   "outputs": [],
   "metadata": {}
  },
  {
   "cell_type": "code",
   "execution_count": null,
   "source": [
    "## Task\r\n",
    "# Print 10-1"
   ],
   "outputs": [],
   "metadata": {}
  },
  {
   "cell_type": "code",
   "execution_count": null,
   "source": [
    "#for\r\n",
    "for alpha in \"happy\":\r\n",
    "    print(alpha)\r\n",
    "l = [1,2,3,4,5,6,7,8,9]\r\n",
    "for alpha in l:\r\n",
    "    print(alpha)"
   ],
   "outputs": [],
   "metadata": {}
  },
  {
   "cell_type": "code",
   "execution_count": null,
   "source": [
    "for num in range(1,6,2):\r\n",
    "    print(num)\r\n",
    "list(range(1,6,2))"
   ],
   "outputs": [],
   "metadata": {}
  },
  {
   "cell_type": "code",
   "execution_count": null,
   "source": [
    "for num in range(6,0,-1):\r\n",
    "    print(num)\r\n",
    "list(range(6,0,-1))"
   ],
   "outputs": [],
   "metadata": {}
  },
  {
   "cell_type": "markdown",
   "source": [
    "## Functions"
   ],
   "metadata": {}
  },
  {
   "cell_type": "code",
   "execution_count": null,
   "source": [
    "## Function Definition\r\n",
    "def Range():\r\n",
    "    start = 1\r\n",
    "    end = 6\r\n",
    "    r = []\r\n",
    "    while start <= end:\r\n",
    "        r.append(start)\r\n",
    "        start = start + 1\r\n",
    "    return r\r\n",
    "\r\n",
    "## Calling Function \r\n",
    "Range()"
   ],
   "outputs": [],
   "metadata": {}
  },
  {
   "cell_type": "code",
   "execution_count": null,
   "source": [
    "## Function Definition\r\n",
    "def Range(start, end, step=1):\r\n",
    "    r = []\r\n",
    "    while start <= end:\r\n",
    "        r.append(start)\r\n",
    "        start = start + step\r\n",
    "    return r\r\n",
    "\r\n",
    "## Calling Function \r\n",
    "l = Range(1,10,2)\r\n",
    "l"
   ],
   "outputs": [],
   "metadata": {}
  },
  {
   "cell_type": "code",
   "execution_count": null,
   "source": [
    "## Dyanamic Argument\r\n",
    "def is_even(*args):\r\n",
    "    print(type(args))\r\n",
    "    for num in args:\r\n",
    "        if num%2 ==0:\r\n",
    "            print(\"Even!\")\r\n",
    "        else:\r\n",
    "            print(\"Odd\")\r\n",
    "is_even(2,3,2,2,2,3,4,5,6,677,5)"
   ],
   "outputs": [],
   "metadata": {}
  },
  {
   "cell_type": "code",
   "execution_count": null,
   "source": [
    "## Dyanamic kwargs\r\n",
    "def create_account(email, password, **kwargs):\r\n",
    "    print(type(kwargs))\r\n",
    "    print(email)\r\n",
    "    print(password)\r\n",
    "    for key,value in kwargs.items():\r\n",
    "        print(key, value)\r\n",
    "\r\n",
    "create_account(\"happy@gmail.com\",\"123\", is_premium = True, name=\"Happy\", age=24)"
   ],
   "outputs": [],
   "metadata": {}
  },
  {
   "cell_type": "code",
   "execution_count": null,
   "source": [
    "## Design Program for Smart Door\r\n",
    "# originalPassword = \"open@2021\"\r\n",
    "# Will take user input as password\r\n",
    "# if password is same as original password, show door is opening, Try again\r\n",
    "# maxTry = 3, after that if enters wrong password, Door is locked. will stop\r\n",
    "# resetting password.\r\n"
   ],
   "outputs": [],
   "metadata": {}
  },
  {
   "cell_type": "markdown",
   "source": [
    "## Keywords\r\n"
   ],
   "metadata": {}
  },
  {
   "cell_type": "code",
   "execution_count": null,
   "source": [
    "import keyword\r\n",
    "keyword.kwlist"
   ],
   "outputs": [],
   "metadata": {}
  },
  {
   "cell_type": "markdown",
   "source": [],
   "metadata": {}
  }
 ],
 "metadata": {
  "orig_nbformat": 4,
  "language_info": {
   "name": "python",
   "version": "3.9.7",
   "mimetype": "text/x-python",
   "codemirror_mode": {
    "name": "ipython",
    "version": 3
   },
   "pygments_lexer": "ipython3",
   "nbconvert_exporter": "python",
   "file_extension": ".py"
  },
  "kernelspec": {
   "name": "python3",
   "display_name": "Python 3.9.7 64-bit"
  },
  "interpreter": {
   "hash": "63fd5069d213b44bf678585dea6b12cceca9941eaf7f819626cde1f2670de90d"
  }
 },
 "nbformat": 4,
 "nbformat_minor": 2
}