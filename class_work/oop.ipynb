{
 "cells": [
  {
   "cell_type": "markdown",
   "source": [
    "## OOP\r\n",
    "* Class\r\n",
    "* Object"
   ],
   "metadata": {}
  },
  {
   "cell_type": "code",
   "execution_count": null,
   "source": [
    "class Human:\r\n",
    "    ## Features or Properties or Class Variable\r\n",
    "    legs = 2\r\n",
    "    hands = 2\r\n",
    "\r\n",
    "    ## Restricting Features\r\n",
    "    __ph = \"99999999999\"\r\n",
    "\r\n",
    "    ## Constructor\r\n",
    "    def __init__(self, name):\r\n",
    "        self.name = name\r\n",
    "        self.__password = \"1234\"\r\n",
    "        print(\"Constructing...\")\r\n",
    "    \r\n",
    "    ## Behaviours or Methods \r\n",
    "    def speak(self):\r\n",
    "        return f\"{self.name} Speaking....\"\r\n",
    "    def changeName(self, newName, hands):\r\n",
    "        self.name = newName\r\n",
    "        __class__.hands = hands\r\n",
    "    def walking(self):\r\n",
    "        return f\"Walking... with {__class__.legs} legs {__class__.__ph}\"\r\n",
    "    \r\n",
    "    ## Special Methods\r\n",
    "    def __str__(self) -> str:\r\n",
    "        return f\"{self.name} Human OBject\"\r\n",
    "    \r\n"
   ],
   "outputs": [],
   "metadata": {}
  },
  {
   "cell_type": "code",
   "execution_count": null,
   "source": [
    "## Creating Object\r\n",
    "happy = Human(\"Happy\")\r\n",
    "# Accessing Feature\r\n",
    "happy.legs = 1\r\n",
    "## Calling Methods\r\n",
    "happy.speak()\r\n",
    "happy.walking()\r\n",
    "happy.changeName(\"Johny\", 1)\r\n",
    "happy.name\r\n",
    "happy.hands\r\n",
    "print(happy)\r\n"
   ],
   "outputs": [],
   "metadata": {}
  },
  {
   "cell_type": "code",
   "execution_count": null,
   "source": [
    "alexa = Human(\"Alexa\")\r\n",
    "print(alexa)"
   ],
   "outputs": [],
   "metadata": {}
  },
  {
   "cell_type": "markdown",
   "source": [
    "### Encapsulation\r\n",
    "### Abstraction\r\n",
    "### Inheritance \r\n",
    "### Polymorphism"
   ],
   "metadata": {}
  },
  {
   "cell_type": "code",
   "execution_count": null,
   "source": [
    "## Inheritance\r\n",
    "## Single Inheritance\r\n",
    "## Hirarchical\r\n",
    "class Men(Human):\r\n",
    "    gender = \"Male\"\r\n",
    "    beard = True\r\n",
    "    def __init__(self, name):\r\n",
    "        super().__init__(name)\r\n",
    "        self.acc = 123\r\n",
    "\r\n",
    "    def talk(self):\r\n",
    "        return super().speak()\r\n",
    "\r\n",
    "    def voiceType(self):\r\n",
    "        return \"Heavy\"\r\n",
    "\r\n",
    "\r\n",
    "class Women(Human):\r\n",
    "    gender = \"Female\"\r\n",
    "\r\n",
    "    def __init__(self, name):\r\n",
    "        super().__init__(name)\r\n",
    "        self.acc = 123\r\n",
    "    def talk(self):\r\n",
    "        return super().legs\r\n",
    "\r\n",
    "    def voiceType(self):\r\n",
    "        return \"Sharp\"\r\n"
   ],
   "outputs": [],
   "metadata": {}
  },
  {
   "cell_type": "code",
   "execution_count": null,
   "source": [
    "johny = Men(\"johny\")\r\n",
    "johny.legs\r\n",
    "johny.walking()\r\n",
    "johny.gender\r\n",
    "johny.voiceType()\r\n",
    "johny.acc\r\n",
    "johny.talk()"
   ],
   "outputs": [],
   "metadata": {}
  },
  {
   "cell_type": "code",
   "execution_count": null,
   "source": [
    "alexa = Women(\"Alexa\")\r\n",
    "alexa.gender\r\n",
    "alexa.voiceType()\r\n",
    "alexa.legs"
   ],
   "outputs": [],
   "metadata": {}
  },
  {
   "cell_type": "code",
   "execution_count": null,
   "source": [
    "\r\n",
    "## Multiple Inheritance\r\n",
    "## Multilevel inheritANCE\r\n",
    "## Hybrid Inheritance\r\n",
    "class Child(Women,Men):\r\n",
    "    pass\r\n",
    "\r\n",
    "john = Child(\"John\")\r\n",
    "john.name\r\n",
    "john.gender\r\n",
    "john.beard\r\n"
   ],
   "outputs": [],
   "metadata": {}
  },
  {
   "cell_type": "code",
   "execution_count": null,
   "source": [
    "## Polymorphism\r\n",
    "## Type - Compile time Overloading\r\n",
    "# Runtime Polymorphism - Method Overriding\r\n",
    "def add(a,b):\r\n",
    "    return a+b\r\n",
    "add(2,3)\r\n",
    "\r\n",
    "def add(a,b,c):\r\n",
    "    return a+b+c\r\n",
    "\r\n",
    "\r\n",
    "add(2, 3, 2)\r\n"
   ],
   "outputs": [],
   "metadata": {}
  },
  {
   "cell_type": "code",
   "execution_count": null,
   "source": [
    "## Class Based\r\n",
    "class Child(Women, Men):\r\n",
    "    ## Overriding Speak method of super class\r\n",
    "    def speak(self):\r\n",
    "        return f\"{self.name} can't speak!\"\r\n",
    "\r\n",
    "\r\n",
    "john = Child(\"John\")\r\n",
    "john.name\r\n",
    "john.gender\r\n",
    "john.speak()"
   ],
   "outputs": [],
   "metadata": {}
  },
  {
   "cell_type": "code",
   "execution_count": null,
   "source": [
    "## Ecomerce\r\n",
    "## Product -> Fruits, Mobile, Computer"
   ],
   "outputs": [],
   "metadata": {}
  }
 ],
 "metadata": {
  "orig_nbformat": 4,
  "language_info": {
   "name": "python",
   "version": "3.9.7",
   "mimetype": "text/x-python",
   "codemirror_mode": {
    "name": "ipython",
    "version": 3
   },
   "pygments_lexer": "ipython3",
   "nbconvert_exporter": "python",
   "file_extension": ".py"
  },
  "kernelspec": {
   "name": "python3",
   "display_name": "Python 3.9.7 64-bit"
  },
  "interpreter": {
   "hash": "14a336a61cfaefff504b47e2b8e6e50961f0feafa7b211f8ff23081790c52144"
  }
 },
 "nbformat": 4,
 "nbformat_minor": 2
}