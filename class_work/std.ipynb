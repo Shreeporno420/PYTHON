{
 "cells": [
  {
   "cell_type": "code",
   "execution_count": null,
   "source": [
    "##OS\r\n",
    "import os"
   ],
   "outputs": [],
   "metadata": {}
  },
  {
   "cell_type": "code",
   "execution_count": null,
   "source": [
    "#get current location\r\n",
    "os.getcwd()"
   ],
   "outputs": [],
   "metadata": {}
  },
  {
   "cell_type": "code",
   "execution_count": null,
   "source": [
    "os.listdir()"
   ],
   "outputs": [],
   "metadata": {}
  },
  {
   "cell_type": "code",
   "execution_count": null,
   "source": [
    "##creating folder\r\n",
    "os.mkdir(\"new\")\r\n",
    "os.mkdir('newnew1')"
   ],
   "outputs": [],
   "metadata": {}
  },
  {
   "cell_type": "code",
   "execution_count": null,
   "source": [
    "##creating folder\r\n",
    "os.mkdir(r'new\\new2')"
   ],
   "outputs": [],
   "metadata": {}
  },
  {
   "cell_type": "code",
   "execution_count": null,
   "source": [
    "##Creating multiple directory\r\n",
    "os.makedirs(r'new2\\new3\\new4')"
   ],
   "outputs": [],
   "metadata": {}
  },
  {
   "cell_type": "code",
   "execution_count": null,
   "source": [
    "##Change Diractory Forward\r\n",
    "os.getcwd()\r\n",
    "os.chdir(\"new\") "
   ],
   "outputs": [],
   "metadata": {}
  },
  {
   "cell_type": "code",
   "execution_count": null,
   "source": [
    "os.getcwd()"
   ],
   "outputs": [],
   "metadata": {}
  },
  {
   "cell_type": "code",
   "execution_count": null,
   "source": [
    "##Change Diractory Backward\r\n",
    "os.getcwd()\r\n",
    "os.chdir(\"..\")"
   ],
   "outputs": [],
   "metadata": {}
  },
  {
   "cell_type": "code",
   "execution_count": null,
   "source": [
    "os.getcwd()"
   ],
   "outputs": [],
   "metadata": {}
  },
  {
   "cell_type": "code",
   "execution_count": null,
   "source": [
    "##Rename\r\n",
    "os.rename('new','ne0') "
   ],
   "outputs": [],
   "metadata": {}
  },
  {
   "cell_type": "code",
   "execution_count": null,
   "source": [
    "os.rename('new2','new4') "
   ],
   "outputs": [],
   "metadata": {}
  },
  {
   "cell_type": "code",
   "execution_count": null,
   "source": [
    "#remove\r\n",
    "os.removedirs('new2\\\\new3\\\\ew4')"
   ],
   "outputs": [],
   "metadata": {}
  },
  {
   "cell_type": "code",
   "execution_count": null,
   "source": [
    "os.listdir()\r\n"
   ],
   "outputs": [],
   "metadata": {}
  },
  {
   "cell_type": "code",
   "execution_count": null,
   "source": [
    "#walk\r\n",
    "for p,d,f in os.walk(\"..\"):\r\n",
    "    print(p,d,f) "
   ],
   "outputs": [],
   "metadata": {}
  },
  {
   "cell_type": "code",
   "execution_count": null,
   "source": [
    "#datetime\r\n",
    "import datetime"
   ],
   "outputs": [],
   "metadata": {}
  },
  {
   "cell_type": "code",
   "execution_count": null,
   "source": [
    "today=datetime.date.today()\r\n",
    "today\r\n",
    "today.day\r\n",
    "today.month\r\n",
    "today.year\r\n",
    "today.weekday()"
   ],
   "outputs": [],
   "metadata": {}
  },
  {
   "cell_type": "code",
   "execution_count": null,
   "source": [
    "##Creating Date Object \r\n",
    "day= datetime.day(2022,11,20) \r\n",
    "day "
   ],
   "outputs": [],
   "metadata": {}
  },
  {
   "cell_type": "code",
   "execution_count": null,
   "source": [
    "##Time\r\n",
    "time=datetime.datetime.now()\r\n",
    "time.hour\r\n",
    "time.minute\r\n",
    "time.second\r\n",
    "time.microsecond"
   ],
   "outputs": [],
   "metadata": {}
  },
  {
   "cell_type": "code",
   "execution_count": null,
   "source": [
    "##Creating Custom Time\r\n",
    "time=datetime.time(22,11,20)\r\n",
    "time.hour\r\n",
    "time.minute\r\n",
    "time.second"
   ],
   "outputs": [],
   "metadata": {}
  },
  {
   "cell_type": "code",
   "execution_count": null,
   "source": [
    "##Timedelta\r\n",
    "today= datetime.datetime.today()\r\n",
    "today + datetime.timedelta(weeks=7, days=4, minutes=3)\r\n",
    "today - datetime.timedelta(weeks=7, days=4, seconds=4) "
   ],
   "outputs": [],
   "metadata": {}
  },
  {
   "cell_type": "code",
   "execution_count": null,
   "source": [
    "##Time stamp\r\n",
    "datetime.date.fromtimestamp(0) "
   ],
   "outputs": [],
   "metadata": {}
  },
  {
   "cell_type": "code",
   "execution_count": null,
   "source": [
    "##Formating\r\n",
    "today"
   ],
   "outputs": [],
   "metadata": {}
  },
  {
   "cell_type": "code",
   "execution_count": null,
   "source": [
    "today.strftime('%d/%m/%Y')\r\n",
    "today.strftime('%A') \r\n",
    "today.strftime('%a')     "
   ],
   "outputs": [],
   "metadata": {}
  },
  {
   "cell_type": "code",
   "execution_count": null,
   "source": [
    "date='21/9/2021'\r\n",
    "datetime.datetime.strptime(date, '%d/%m/%Y') "
   ],
   "outputs": [],
   "metadata": {}
  },
  {
   "cell_type": "code",
   "execution_count": null,
   "source": [
    "#MATH\r\n",
    "import math"
   ],
   "outputs": [],
   "metadata": {}
  },
  {
   "cell_type": "code",
   "execution_count": null,
   "source": [
    "##Constant\r\n",
    "math.tau\r\n",
    "math.e\r\n",
    "math.pi"
   ],
   "outputs": [],
   "metadata": {}
  },
  {
   "cell_type": "code",
   "execution_count": null,
   "source": [
    "##Function\r\n",
    "math.sqrt(2)\r\n",
    "math.factorial(5) \r\n",
    "math.pow(2,4)\r\n",
    "math.exp(2)"
   ],
   "outputs": [],
   "metadata": {}
  },
  {
   "cell_type": "code",
   "execution_count": null,
   "source": [
    "math.sin(90)\r\n",
    "math.cos(90)\r\n",
    "math.tan(90)"
   ],
   "outputs": [],
   "metadata": {}
  },
  {
   "cell_type": "code",
   "execution_count": null,
   "source": [
    "math.log(9)\r\n",
    "math.log10(9)\r\n",
    "math.log2(9)\r\n",
    "math.log1p(9)\r\n"
   ],
   "outputs": [],
   "metadata": {}
  },
  {
   "cell_type": "code",
   "execution_count": null,
   "source": [
    "import mymath\r\n",
    "mymath.add(3,2)"
   ],
   "outputs": [],
   "metadata": {}
  }
 ],
 "metadata": {
  "orig_nbformat": 4,
  "language_info": {
   "name": "python",
   "version": "3.9.6",
   "mimetype": "text/x-python",
   "codemirror_mode": {
    "name": "ipython",
    "version": 3
   },
   "pygments_lexer": "ipython3",
   "nbconvert_exporter": "python",
   "file_extension": ".py"
  },
  "kernelspec": {
   "name": "python3",
   "display_name": "Python 3.9.6 64-bit"
  },
  "interpreter": {
   "hash": "d4dd58fea9fb5bc29bccf1b79358a561f2f1a58caa97e932fa36505194d38bf7"
  }
 },
 "nbformat": 4,
 "nbformat_minor": 2
}