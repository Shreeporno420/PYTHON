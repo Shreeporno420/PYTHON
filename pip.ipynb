{
 "cells": [
  {
   "cell_type": "code",
   "execution_count": 8,
   "source": [
    "#pip install textblob\r\n",
    "\r\n",
    "from textblob import TextBlob\r\n",
    "\r\n",
    "TextBlob('mango').correct()"
   ],
   "outputs": [
    {
     "output_type": "execute_result",
     "data": {
      "text/plain": [
       "TextBlob(\"mange\")"
      ]
     },
     "metadata": {},
     "execution_count": 8
    }
   ],
   "metadata": {}
  }
 ],
 "metadata": {
  "orig_nbformat": 4,
  "language_info": {
   "name": "python",
   "version": "3.9.6",
   "mimetype": "text/x-python",
   "codemirror_mode": {
    "name": "ipython",
    "version": 3
   },
   "pygments_lexer": "ipython3",
   "nbconvert_exporter": "python",
   "file_extension": ".py"
  },
  "kernelspec": {
   "name": "python3",
   "display_name": "Python 3.9.6 64-bit"
  },
  "interpreter": {
   "hash": "d4dd58fea9fb5bc29bccf1b79358a561f2f1a58caa97e932fa36505194d38bf7"
  }
 },
 "nbformat": 4,
 "nbformat_minor": 2
}