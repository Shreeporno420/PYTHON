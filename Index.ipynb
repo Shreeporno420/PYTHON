{
 "cells": [
  {
   "cell_type": "code",
   "execution_count": null,
   "source": [
    "#Tuple\r\n",
    "\r\n",
    "rolls=(1,2,3,4,5,6,7,8,9)\r\n",
    "type(rolls)\r\n",
    "\r\n",
    "#access \r\n",
    "rolls[1]\r\n",
    "print(rolls)"
   ],
   "outputs": [],
   "metadata": {}
  },
  {
   "cell_type": "code",
   "execution_count": null,
   "source": [
    "list=[\"orange\",\"watermelon\",1]\r\n",
    "\r\n",
    "list.append(\"Egg\")\r\n",
    "\r\n",
    "list.pop()\r\n",
    "\r\n",
    "list.extend(\"Mango\") \r\n",
    "\r\n",
    "list"
   ],
   "outputs": [],
   "metadata": {}
  },
  {
   "cell_type": "code",
   "execution_count": null,
   "source": [
    "#set\r\n",
    "\r\n",
    "#doesn,t allow duplicates\r\n",
    "list1={1,2,3,3,4,5,6,7,8,9}\r\n",
    "s2={4,6,5,10,3,5}\r\n",
    "len(list1)\r\n",
    "\r\n",
    "#Function\r\n",
    "list1.add(12)\r\n",
    "list1.update((13,15))\r\n",
    "list1.union(s2)\r\n",
    "list1.intersection(s2) \r\n"
   ],
   "outputs": [],
   "metadata": {}
  },
  {
   "cell_type": "code",
   "execution_count": null,
   "source": [
    "list1=[1,2,3,4,5,6,7,8,9]\r\n",
    "\r\n",
    "list1.extend([11,22])\r\n",
    "\r\n",
    "list1+[2]\r\n",
    "\r\n",
    "list1[1::3] \r\n",
    "\r\n",
    "list1 * 2"
   ],
   "outputs": [],
   "metadata": {}
  },
  {
   "cell_type": "code",
   "execution_count": null,
   "source": [
    "#dictionary\r\n",
    "\r\n",
    "dic={1:\"Perry\", 2:\"Alex\", 3:\"Alexa\",4:\"Ale\"}\r\n",
    "\r\n",
    "#Update\r\n",
    "dic[\"ages\"] = 20\r\n",
    "\r\n",
    "#function\r\n",
    "\r\n",
    "dic.get(1)\r\n",
    "dic.items()\r\n",
    "dic.keys()\r\n",
    "dic.pop(1)\r\n",
    "#dic\r\n",
    "dic.values()\r\n",
    "dic.popitem()"
   ],
   "outputs": [],
   "metadata": {}
  },
  {
   "cell_type": "markdown",
   "source": [
    "Conditional Statmant"
   ],
   "metadata": {}
  },
  {
   "cell_type": "code",
   "execution_count": null,
   "source": [
    "#IF\r\n",
    "age=14\r\n",
    "\r\n",
    "if age >= 18:\r\n",
    "\r\n",
    "    print(\"True\")\r\n",
    "\r\n",
    "elif age<=15 and age>=11:\r\n",
    "\r\n",
    "    print(\"You are a young\")\r\n",
    "\r\n",
    "else:\r\n",
    "\r\n",
    "    print(\"False\")\r\n",
    "\r\n",
    "#IF 1\r\n",
    "\r\n",
    "\r\n"
   ],
   "outputs": [],
   "metadata": {}
  },
  {
   "cell_type": "code",
   "execution_count": null,
   "source": [
    "#While Loop\r\n",
    "start=0\r\n",
    "End=10\r\n",
    "\r\n",
    "while start <= End:\r\n",
    "\r\n",
    "    if start % 2 !=0:\r\n",
    "\r\n",
    "       print(start,end=\" \") \r\n",
    "\r\n",
    "    start= start+1\r\n",
    "    "
   ],
   "outputs": [],
   "metadata": {}
  },
  {
   "cell_type": "code",
   "execution_count": null,
   "source": [
    "#While Loop Break\r\n",
    "start=1\r\n",
    "End=10\r\n",
    "\r\n",
    "while start <= End:\r\n",
    " print(start,end=\" \") \r\n",
    " start= start+1\r\n",
    " if start >= 5: \r\n",
    "   break"
   ],
   "outputs": [],
   "metadata": {}
  },
  {
   "cell_type": "code",
   "execution_count": null,
   "source": [
    "#While Loop Continue\r\n",
    "start=1\r\n",
    "End=10\r\n",
    "\r\n",
    "while start <= End:\r\n",
    " print(start,end=\" \") \r\n",
    " start= start+1\r\n",
    " if start >= 5: \r\n",
    "   print"
   ],
   "outputs": [],
   "metadata": {}
  },
  {
   "cell_type": "code",
   "execution_count": null,
   "source": [
    "#For Loop\r\n",
    "for a in \"Happy\":\r\n",
    "   print(a,end=\"\") "
   ],
   "outputs": [],
   "metadata": {}
  },
  {
   "cell_type": "code",
   "execution_count": null,
   "source": [
    "l=345555\r\n",
    "for a in l:\r\n",
    "   print(a)"
   ],
   "outputs": [],
   "metadata": {}
  },
  {
   "cell_type": "code",
   "execution_count": null,
   "source": [
    "#range\r\n",
    "\r\n",
    "for num  in range(1,5+1):\r\n",
    "    print(num) \r\n",
    "\r\n",
    "list(range(1,5))"
   ],
   "outputs": [],
   "metadata": {}
  },
  {
   "cell_type": "code",
   "execution_count": null,
   "source": [
    "for num in range(6,0,-1):\r\n",
    "    print(num,end=\" \") \r\n",
    "\r\n",
    "list(range(6,0,-1))"
   ],
   "outputs": [],
   "metadata": {}
  },
  {
   "cell_type": "code",
   "execution_count": null,
   "source": [
    "#Function\r\n",
    "start=1\r\n",
    "End=10\r\n",
    "r=[]\r\n",
    "\r\n",
    "while start <= End:\r\n",
    "\r\n",
    " r.append(start)\r\n",
    "\r\n",
    " start= start+1\r\n",
    " \r\n",
    " print(r)"
   ],
   "outputs": [],
   "metadata": {}
  },
  {
   "cell_type": "code",
   "execution_count": null,
   "source": [
    "#Function Define\r\n",
    "def range(Start,End,Step):\r\n",
    "    r=[]\r\n",
    "\r\n",
    "    while Start <= End:\r\n",
    "\r\n",
    "        r.append(Start)\r\n",
    "\r\n",
    "        Start= Start + 1\r\n",
    "\r\n",
    "    return r\r\n",
    "\r\n",
    "#calling Function\r\n",
    "\r\n",
    "range(1,10,1) "
   ],
   "outputs": [],
   "metadata": {}
  },
  {
   "cell_type": "code",
   "execution_count": null,
   "source": [
    "#Printing Number\r\n",
    "def is_even(num):\r\n",
    "    \r\n",
    "    if num%2==0:\r\n",
    "        return True\r\n",
    "\r\n",
    "    else:\r\n",
    "\r\n",
    "        return False\r\n",
    "\r\n",
    "is_even(int(input(\"Enter Number\"))) "
   ],
   "outputs": [],
   "metadata": {}
  },
  {
   "cell_type": "code",
   "execution_count": null,
   "source": [
    "def is_even(num):\r\n",
    "    \r\n",
    "    if num%2==0:\r\n",
    "        return True\r\n",
    "\r\n",
    "    else:\r\n",
    "\r\n",
    "        return False\r\n",
    "\r\n",
    "is_even(int(input(\"Enter Number\"))) "
   ],
   "outputs": [],
   "metadata": {}
  },
  {
   "cell_type": "code",
   "execution_count": null,
   "source": [
    "#Dyanamic Key word\r\n",
    "\r\n",
    "def create_account(email,password,**Kwargs):\r\n",
    "\r\n",
    "    for key,value in Kwargs.items():\r\n",
    "        print(key,value)\r\n",
    "create_account(\"shreepornoshamya@gamil.com\",password=123,is_premium=True,name=\"Happy\" )"
   ],
   "outputs": [],
   "metadata": {}
  },
  {
   "cell_type": "code",
   "execution_count": null,
   "source": [
    "is_even=lambda num:\"even!\" if is_even % 2 == 0 else \"odd\"\r\n",
    "\r\n",
    "is_even(2) "
   ],
   "outputs": [],
   "metadata": {}
  },
  {
   "cell_type": "code",
   "execution_count": null,
   "source": [
    "\r\n",
    "def is_even(num):\r\n",
    "\r\n",
    "    if num % 2 == 0:\r\n",
    "     return\"Even\"\r\n",
    "    else:\r\n",
    "      return\"Odd\" \r\n",
    "\r\n",
    "is_even(7) "
   ],
   "outputs": [],
   "metadata": {}
  },
  {
   "cell_type": "code",
   "execution_count": null,
   "source": [
    "#map()\r\n",
    "list(map(is_even,[2,4,5,6,7,8])) \r\n",
    "\r\n",
    "list(map(str,[2,4,5,6,7,8])) \r\n",
    "\r\n",
    "list(map(float,[2,4,5,6,7,8])) "
   ],
   "outputs": [],
   "metadata": {}
  },
  {
   "cell_type": "code",
   "execution_count": null,
   "source": [
    "#Filter\r\n",
    "def is_even(num):\r\n",
    "\r\n",
    "    if num % 2 == 0:\r\n",
    "     return True\r\n",
    "    else:\r\n",
    "      return False\r\n",
    "\r\n",
    "list(filter(is_even,[2,4,5,6,7,8])) "
   ],
   "outputs": [],
   "metadata": {}
  },
  {
   "cell_type": "code",
   "execution_count": 83,
   "source": [
    "nums=[2,3,4,5,6,7,8,9]\r\n",
    "\r\n",
    "evens=[True if num%2==0 else False for num in nums]\r\n",
    "evens"
   ],
   "outputs": [
    {
     "output_type": "execute_result",
     "data": {
      "text/plain": [
       "[True, False, True, False, True, False, True, False]"
      ]
     },
     "metadata": {},
     "execution_count": 83
    }
   ],
   "metadata": {}
  },
  {
   "cell_type": "code",
   "execution_count": null,
   "source": [
    "numss=[\r\n",
    "    [1,2,3],\r\n",
    "    [4,5,6],\r\n",
    "    [7,8,9]\r\n",
    "]\r\n",
    "evens=[True if num%2==0 else False for nums in numss for num in nums]\r\n",
    "evens "
   ],
   "outputs": [],
   "metadata": {}
  },
  {
   "cell_type": "code",
   "execution_count": 72,
   "source": [
    "#Genarator\r\n",
    "def range(Start,End,Step=1):\r\n",
    "    while Start <= End:\r\n",
    "        yield Start,\"Pasued\" \r\n",
    "        print(\"resuming...\") \r\n",
    "        Start= Start + Step\r\n",
    "\r\n",
    "r=range(1,5) \r\n",
    "r"
   ],
   "outputs": [
    {
     "output_type": "execute_result",
     "data": {
      "text/plain": [
       "<generator object range at 0x00000154B3BD95F0>"
      ]
     },
     "metadata": {},
     "execution_count": 72
    }
   ],
   "metadata": {}
  },
  {
   "cell_type": "code",
   "execution_count": 77,
   "source": [
    "next(r)"
   ],
   "outputs": [
    {
     "output_type": "stream",
     "name": "stdout",
     "text": [
      "resuming...\n"
     ]
    },
    {
     "output_type": "execute_result",
     "data": {
      "text/plain": [
       "(5, 'Pasued')"
      ]
     },
     "metadata": {},
     "execution_count": 77
    }
   ],
   "metadata": {}
  },
  {
   "cell_type": "code",
   "execution_count": 78,
   "source": [
    "#Decorators\r\n",
    "def login(funct):\r\n",
    "    print(\"Logged in!\")\r\n",
    "    funct()\r\n",
    "@login\r\n",
    "def order():\r\n",
    "    print(\"Order Placed\") \r\n"
   ],
   "outputs": [
    {
     "output_type": "stream",
     "name": "stdout",
     "text": [
      "Logged in!\n",
      "Order Placed\n"
     ]
    }
   ],
   "metadata": {}
  }
 ],
 "metadata": {
  "orig_nbformat": 4,
  "language_info": {
   "name": "python",
   "version": "3.9.6",
   "mimetype": "text/x-python",
   "codemirror_mode": {
    "name": "ipython",
    "version": 3
   },
   "pygments_lexer": "ipython3",
   "nbconvert_exporter": "python",
   "file_extension": ".py"
  },
  "kernelspec": {
   "name": "python3",
   "display_name": "Python 3.9.6 64-bit"
  },
  "interpreter": {
   "hash": "d4dd58fea9fb5bc29bccf1b79358a561f2f1a58caa97e932fa36505194d38bf7"
  }
 },
 "nbformat": 4,
 "nbformat_minor": 2
}