{
 "cells": [
  {
   "cell_type": "code",
   "execution_count": 1,
   "metadata": {},
   "outputs": [],
   "source": [
    "import requests"
   ]
  },
  {
   "cell_type": "code",
   "execution_count": 2,
   "metadata": {},
   "outputs": [],
   "source": [
    "## Image Downloader\n",
    "## Take input from user, image URL\n",
    "## Download and take user input for filename\n",
    "## save file\n",
    "\n",
    "image_Url=input(r\"Enter Image url: \") \n",
    "image= requests.get(image_Url)"
   ]
  },
  {
   "cell_type": "code",
   "execution_count": 3,
   "metadata": {},
   "outputs": [
    {
     "name": "stdout",
     "output_type": "stream",
     "text": [
      "invalid Image Type!!!\n"
     ]
    }
   ],
   "source": [
    "type=[\".png\",\".jpg\",\".jpeg\",\".webp\"]\n",
    "img_data=image.content\n",
    "\n",
    "while True:\n",
    "    img_name=input(\"Enter the image name: \") \n",
    "    if img_name in type: \n",
    "        print(\"invalid name!!!\") \n",
    "        continue   \n",
    "    else:\n",
    "        while True:\n",
    "            img_type=input(\"Enter the image type- .png, .jpg, .jpeg, .webp: \") \n",
    "            if img_type in type:\n",
    "                with open(f'{img_name + img_type}', mode='xb') as f:\n",
    "                    f.write(img_data)\n",
    "                    break     \n",
    "            else:\n",
    "                print(\"invalid Image Type!!!\")\n",
    "                continue\n",
    "        break"
   ]
  }
 ],
 "metadata": {
  "interpreter": {
   "hash": "d4dd58fea9fb5bc29bccf1b79358a561f2f1a58caa97e932fa36505194d38bf7"
  },
  "kernelspec": {
   "display_name": "Python 3.9.6 64-bit",
   "name": "python3"
  },
  "language_info": {
   "codemirror_mode": {
    "name": "ipython",
    "version": 3
   },
   "file_extension": ".py",
   "mimetype": "text/x-python",
   "name": "python",
   "nbconvert_exporter": "python",
   "pygments_lexer": "ipython3",
   "version": "3.9.6"
  },
  "orig_nbformat": 4
 },
 "nbformat": 4,
 "nbformat_minor": 2
}
